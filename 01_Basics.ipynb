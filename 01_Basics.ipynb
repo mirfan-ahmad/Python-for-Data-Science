{
 "cells": [
  {
   "cell_type": "markdown",
   "metadata": {},
   "source": [
    "# Contents\n",
    "## 1. What is value\n",
    "## 2. print () function\n",
    "## 3. type () function\n",
    "## 4. Variable\n",
    "## 5. Variable names and keywords\n",
    "## 6. Statements\n",
    "## 7. Operators and operands\n",
    "## 8. Order of operations\n",
    "## 9. String operations\n",
    "## 10. Asking the user for input\n",
    "## 11. Type Casting\n",
    "## 12. Comments"
   ]
  },
  {
   "cell_type": "markdown",
   "metadata": {},
   "source": [
    "# 1. Value"
   ]
  },
  {
   "cell_type": "markdown",
   "metadata": {},
   "source": [
    "### A value is one of the basic things a program works with, like a letter or a number.\n",
    "The values could be 1, 2.5, and 'Hello, World!'.\n",
    "\n",
    "These values belong to different types: 1 is an integer, 2.5 is float and \"Hello World\" is a string"
   ]
  },
  {
   "cell_type": "markdown",
   "metadata": {},
   "source": [
    "# 2. print() function"
   ]
  },
  {
   "cell_type": "markdown",
   "metadata": {},
   "source": [
    "We can print these values using print () function"
   ]
  },
  {
   "cell_type": "code",
   "execution_count": 1,
   "metadata": {},
   "outputs": [
    {
     "name": "stdout",
     "output_type": "stream",
     "text": [
      "1\n"
     ]
    }
   ],
   "source": [
    "print (1)"
   ]
  },
  {
   "cell_type": "code",
   "execution_count": 2,
   "metadata": {},
   "outputs": [
    {
     "name": "stdout",
     "output_type": "stream",
     "text": [
      "2.5\n"
     ]
    }
   ],
   "source": [
    "print(2.5)"
   ]
  },
  {
   "cell_type": "code",
   "execution_count": 3,
   "metadata": {},
   "outputs": [
    {
     "name": "stdout",
     "output_type": "stream",
     "text": [
      "hello world\n"
     ]
    }
   ],
   "source": [
    "print (\"hello world\")"
   ]
  },
  {
   "cell_type": "code",
   "execution_count": 4,
   "metadata": {},
   "outputs": [
    {
     "name": "stdout",
     "output_type": "stream",
     "text": [
      "hello world\n"
     ]
    }
   ],
   "source": [
    "print ('hello world')"
   ]
  },
  {
   "cell_type": "code",
   "execution_count": 1,
   "metadata": {},
   "outputs": [
    {
     "name": "stdout",
     "output_type": "stream",
     "text": [
      "1 2 hello world\n"
     ]
    }
   ],
   "source": [
    "# print two or more values using single statement\n",
    "print(1, 2, 'hello world')"
   ]
  },
  {
   "cell_type": "code",
   "execution_count": 2,
   "metadata": {},
   "outputs": [
    {
     "name": "stdout",
     "output_type": "stream",
     "text": [
      "Pakistan\n"
     ]
    }
   ],
   "source": [
    "# print the name of your country\n",
    "print('Pakistan')"
   ]
  },
  {
   "cell_type": "code",
   "execution_count": 10,
   "metadata": {},
   "outputs": [],
   "source": [
    "# print your date of birth\n"
   ]
  },
  {
   "cell_type": "code",
   "execution_count": 3,
   "metadata": {},
   "outputs": [
    {
     "name": "stdout",
     "output_type": "stream",
     "text": [
      "23-09-2003\n"
     ]
    }
   ],
   "source": [
    "# print your name, age and height using one print statement\n",
    "print('23-09-2003')"
   ]
  },
  {
   "cell_type": "markdown",
   "metadata": {},
   "source": [
    "# 3. type() function"
   ]
  },
  {
   "cell_type": "markdown",
   "metadata": {},
   "source": [
    "If you are not sure what type a value has, the interpreter can tell you."
   ]
  },
  {
   "cell_type": "code",
   "execution_count": 12,
   "metadata": {},
   "outputs": [
    {
     "data": {
      "text/plain": [
       "int"
      ]
     },
     "execution_count": 12,
     "metadata": {},
     "output_type": "execute_result"
    }
   ],
   "source": [
    "type(1)"
   ]
  },
  {
   "cell_type": "code",
   "execution_count": 13,
   "metadata": {},
   "outputs": [
    {
     "data": {
      "text/plain": [
       "float"
      ]
     },
     "execution_count": 13,
     "metadata": {},
     "output_type": "execute_result"
    }
   ],
   "source": [
    "type(2.5)"
   ]
  },
  {
   "cell_type": "code",
   "execution_count": 14,
   "metadata": {},
   "outputs": [
    {
     "data": {
      "text/plain": [
       "str"
      ]
     },
     "execution_count": 14,
     "metadata": {},
     "output_type": "execute_result"
    }
   ],
   "source": [
    "type(\"hello world\")"
   ]
  },
  {
   "cell_type": "code",
   "execution_count": 4,
   "metadata": {},
   "outputs": [
    {
     "name": "stdout",
     "output_type": "stream",
     "text": [
      "<class 'str'>\n",
      "<class 'float'>\n"
     ]
    }
   ],
   "source": [
    "# what will be the type of '5'\n",
    "print(type('5'))\n",
    "# what is type of 9.3333333333\n",
    "print(type(9.3333333333))"
   ]
  },
  {
   "cell_type": "code",
   "execution_count": 6,
   "metadata": {},
   "outputs": [
    {
     "name": "stdout",
     "output_type": "stream",
     "text": [
      "<class 'tuple'> <class 'list'> <class 'dict'>\n"
     ]
    }
   ],
   "source": [
    "#print the type of (), [], {} \n",
    "print(type(()), type([]), type({}))"
   ]
  },
  {
   "cell_type": "code",
   "execution_count": null,
   "metadata": {},
   "outputs": [],
   "source": [
    "# what is output of type(range(5))"
   ]
  },
  {
   "cell_type": "markdown",
   "metadata": {},
   "source": [
    "# 4. Variable"
   ]
  },
  {
   "cell_type": "markdown",
   "metadata": {},
   "source": [
    "One of the most powerful features of a programming language is the ability to\n",
    "manipulate variables. \n",
    "\n",
    "A variable is a name that refers to a value.\n",
    "\n",
    "Variables names are case sensitive"
   ]
  },
  {
   "cell_type": "code",
   "execution_count": 8,
   "metadata": {},
   "outputs": [],
   "source": [
    "# An assignment statement creates new variables and gives them values:\n",
    "name = \"Ahmed\"\n",
    "age = 20\n",
    "height = 3.5"
   ]
  },
  {
   "cell_type": "markdown",
   "metadata": {},
   "source": [
    "This example makes three assignments, first assign \"Ahmed\" to name variable, second assign 20 to age and 3.5 to height"
   ]
  },
  {
   "cell_type": "code",
   "execution_count": 9,
   "metadata": {},
   "outputs": [
    {
     "name": "stdout",
     "output_type": "stream",
     "text": [
      "Ahmed\n"
     ]
    }
   ],
   "source": [
    "# to print the name you can use print statement\n",
    "print(name)"
   ]
  },
  {
   "cell_type": "code",
   "execution_count": 10,
   "metadata": {},
   "outputs": [
    {
     "name": "stdout",
     "output_type": "stream",
     "text": [
      "20\n"
     ]
    }
   ],
   "source": [
    "# print the values of age and height\n",
    "print(age)"
   ]
  },
  {
   "cell_type": "code",
   "execution_count": 11,
   "metadata": {},
   "outputs": [
    {
     "name": "stdout",
     "output_type": "stream",
     "text": [
      "Ahmed 20 3.5\n"
     ]
    }
   ],
   "source": [
    "# print all three values using single print statement\n",
    "print(name, age, height)"
   ]
  },
  {
   "cell_type": "code",
   "execution_count": 12,
   "metadata": {},
   "outputs": [
    {
     "name": "stdout",
     "output_type": "stream",
     "text": [
      "1 0 0\n",
      "1,000,000 1000000\n"
     ]
    }
   ],
   "source": [
    "# What will happen if you print 1 million using following statement\n",
    "print(1,000,000)\n",
    "# now search out the way to print 1 million and try it out\n",
    "print('1,000,000', 1000000)"
   ]
  },
  {
   "cell_type": "code",
   "execution_count": 14,
   "metadata": {},
   "outputs": [
    {
     "name": "stdout",
     "output_type": "stream",
     "text": [
      "1 2 hi\n"
     ]
    }
   ],
   "source": [
    "# Store three integers in x,y,z and print them using single print statement.\n",
    "x = 1\n",
    "y = 2\n",
    "z = 'hi'\n",
    "\n",
    "print(x, y, z)"
   ]
  },
  {
   "cell_type": "code",
   "execution_count": 15,
   "metadata": {},
   "outputs": [
    {
     "name": "stdout",
     "output_type": "stream",
     "text": [
      "<class 'float'>\n"
     ]
    }
   ],
   "source": [
    "var1 = 121.25\n",
    "# print type of var1\n",
    "print(type(var1))"
   ]
  },
  {
   "cell_type": "markdown",
   "metadata": {},
   "source": [
    "# 5. Variable names and keywords"
   ]
  },
  {
   "cell_type": "raw",
   "metadata": {},
   "source": [
    "Variable names can be arbitrarily long. \n",
    "They can contain both letters and numbers,but they have to begin with a letter.\n",
    "The underscore character (_) can appear in a name.\n",
    "Variable names can start with an underscore character, but we generally avoid using it unles\n",
    "we are writing library code for others to use."
   ]
  },
  {
   "cell_type": "code",
   "execution_count": null,
   "metadata": {},
   "outputs": [],
   "source": [
    "#what will happen\n",
    "#47name = 'Pakistan'\n",
    "#name@ = 'Pakistan'\n",
    "#class = 'Pakistan'\n",
    "#myname = 'kamran'\n",
    "#first_val = 10\n",
    "#string = 'abc'"
   ]
  },
  {
   "cell_type": "raw",
   "metadata": {},
   "source": [
    "It turns out that class is one of Python’s keywords.\n",
    "The interpreter uses keywords to recognize the structure of the program, and they cannot be used as variable names."
   ]
  },
  {
   "cell_type": "markdown",
   "metadata": {},
   "source": [
    "# 6. Statements"
   ]
  },
  {
   "cell_type": "raw",
   "metadata": {},
   "source": [
    "A statement is a unit of code that the Python interpreter can execute.\n",
    "We have seen two kinds of statements: print and assignment."
   ]
  },
  {
   "cell_type": "markdown",
   "metadata": {},
   "source": [
    "# 7. Operators and operands"
   ]
  },
  {
   "cell_type": "code",
   "execution_count": null,
   "metadata": {
    "collapsed": true
   },
   "outputs": [],
   "source": []
  },
  {
   "cell_type": "raw",
   "metadata": {},
   "source": [
    "Operators are special symbols that represent computations like addition and multiplication.\n",
    "The values the operator is applied to are called operands."
   ]
  },
  {
   "cell_type": "code",
   "execution_count": null,
   "metadata": {},
   "outputs": [],
   "source": [
    "# The operators +, -, *, / and ** perform addition, subtraction, multiplication, division,\n",
    "# exponentiation and modulus operator as in the following examples:\n",
    "print (20+32, 3-1, 4*5 , 12/6,  5**2, 13%5)"
   ]
  },
  {
   "cell_type": "code",
   "execution_count": null,
   "metadata": {
    "collapsed": true
   },
   "outputs": [],
   "source": [
    "# print 200+323-433"
   ]
  },
  {
   "cell_type": "code",
   "execution_count": null,
   "metadata": {
    "collapsed": true
   },
   "outputs": [],
   "source": [
    "# print (2+1)*(8-6)"
   ]
  },
  {
   "cell_type": "code",
   "execution_count": 16,
   "metadata": {},
   "outputs": [
    {
     "name": "stdout",
     "output_type": "stream",
     "text": [
      "1024\n"
     ]
    }
   ],
   "source": [
    "# print no of bytes in 1KB using exponentiation operator\n",
    "print(1024**1)"
   ]
  },
  {
   "cell_type": "code",
   "execution_count": null,
   "metadata": {},
   "outputs": [],
   "source": [
    "# print(2*3**3*4)"
   ]
  },
  {
   "cell_type": "markdown",
   "metadata": {},
   "source": [
    "# 8. Expressions"
   ]
  },
  {
   "cell_type": "raw",
   "metadata": {},
   "source": [
    "An expression is a combination of values, variables, and operators."
   ]
  },
  {
   "cell_type": "raw",
   "metadata": {},
   "source": [
    "Assignement: type the following statements in the Python interpreter to see what\n",
    "they do:\n",
    "5\n",
    "x = 5\n",
    "x + 1"
   ]
  },
  {
   "cell_type": "code",
   "execution_count": 55,
   "metadata": {},
   "outputs": [],
   "source": [
    "# execute the following statements and see the output\n",
    "#5\n",
    "# x = 5\n",
    "# x + 1"
   ]
  },
  {
   "cell_type": "code",
   "execution_count": null,
   "metadata": {},
   "outputs": [],
   "source": [
    "# what is output of\n",
    "# y = 10\n",
    "# x = y+=2\n",
    "# print(x)"
   ]
  },
  {
   "cell_type": "code",
   "execution_count": 17,
   "metadata": {},
   "outputs": [
    {
     "name": "stdout",
     "output_type": "stream",
     "text": [
      "6 6\n"
     ]
    }
   ],
   "source": [
    "# Store three integers in x,y,z and print their sum and product.\n",
    "x = 1\n",
    "y  =2\n",
    "z = 3\n",
    "\n",
    "print(x+y+z, x*y*z)"
   ]
  },
  {
   "cell_type": "markdown",
   "metadata": {},
   "source": [
    "# 9. Order of operations"
   ]
  },
  {
   "cell_type": "raw",
   "metadata": {},
   "source": [
    "When more than one operator appears in an expression, the order of evaluation\n",
    "depends on the rules of precedence. \n",
    "For mathematical operators, Python follows mathematical convention. \n",
    "The acronym PEMDAS is a useful way to remember the rules:\n",
    "1. Parentheses\n",
    "2. Exponentiation\n",
    "3. Multiplication and Division\n",
    "4. Addition and Subtraction\n",
    "Operators with the same precedence are evaluated from left to right.\n",
    "    "
   ]
  },
  {
   "cell_type": "code",
   "execution_count": null,
   "metadata": {
    "collapsed": true
   },
   "outputs": [],
   "source": [
    "# write output of the following commands without excuting it\n",
    "# print (2*(3-1))\n",
    "# print ((1+1)**(5-2))\n",
    "# print (2**1+1)\n",
    "# print (3*1**3)"
   ]
  },
  {
   "cell_type": "markdown",
   "metadata": {},
   "source": [
    "# 10. String operations"
   ]
  },
  {
   "cell_type": "code",
   "execution_count": 56,
   "metadata": {},
   "outputs": [
    {
     "name": "stdout",
     "output_type": "stream",
     "text": [
      "30\n"
     ]
    }
   ],
   "source": [
    "first = 10\n",
    "second = 20\n",
    "print (first + second)"
   ]
  },
  {
   "cell_type": "code",
   "execution_count": 57,
   "metadata": {},
   "outputs": [
    {
     "name": "stdout",
     "output_type": "stream",
     "text": [
      "1020\n"
     ]
    }
   ],
   "source": [
    "first = '10'\n",
    "second = '20'\n",
    "print (first + second)"
   ]
  },
  {
   "cell_type": "code",
   "execution_count": 58,
   "metadata": {},
   "outputs": [
    {
     "name": "stdout",
     "output_type": "stream",
     "text": [
      "hellohellohello\n"
     ]
    }
   ],
   "source": [
    "print (\"hello\" * 3 )"
   ]
  },
  {
   "cell_type": "code",
   "execution_count": 18,
   "metadata": {},
   "outputs": [
    {
     "name": "stdout",
     "output_type": "stream",
     "text": [
      "Irfan Ahmad Irfan Ahmad Irfan Ahmad Irfan Ahmad Irfan Ahmad Irfan Ahmad Irfan Ahmad Irfan Ahmad Irfan Ahmad Irfan Ahmad\n"
     ]
    }
   ],
   "source": [
    "# print your name 10 times\n",
    "name = 'Irfan Ahmad'\n",
    "print(name, name, name, name, name, name, name, name, name, name)"
   ]
  },
  {
   "cell_type": "code",
   "execution_count": 19,
   "metadata": {},
   "outputs": [
    {
     "data": {
      "text/plain": [
       "'JamesJamesJamesJamesJamesJames'"
      ]
     },
     "execution_count": 19,
     "metadata": {},
     "output_type": "execute_result"
    }
   ],
   "source": [
    "# What is output of var=\"James\"*2*3\n",
    "'James'*2*3"
   ]
  },
  {
   "cell_type": "markdown",
   "metadata": {},
   "source": [
    "# 11. Asking the user for input"
   ]
  },
  {
   "cell_type": "code",
   "execution_count": 64,
   "metadata": {},
   "outputs": [
    {
     "name": "stdout",
     "output_type": "stream",
     "text": [
      "please enter name: aqs\n",
      "aqs\n"
     ]
    }
   ],
   "source": [
    "name = input(\"please enter name: \")\n",
    "print (name)"
   ]
  },
  {
   "cell_type": "code",
   "execution_count": 20,
   "metadata": {},
   "outputs": [
    {
     "name": "stdout",
     "output_type": "stream",
     "text": [
      "input your age23\n",
      "232323\n"
     ]
    }
   ],
   "source": [
    "# wirte a program which take age from user and concate it three time\n",
    "age = input('input your age')\n",
    "print(age*3)"
   ]
  },
  {
   "cell_type": "code",
   "execution_count": 22,
   "metadata": {},
   "outputs": [
    {
     "name": "stdout",
     "output_type": "stream",
     "text": [
      "input 1st number2\n",
      "input 2nd number6\n",
      "12\n"
     ]
    }
   ],
   "source": [
    "# Write a program to accept two numbers from the user and calculate multiplication.\n",
    "x = int(input('input 1st number'))\n",
    "y = int(input('input 2nd number'))\n",
    "\n",
    "print(x*y)"
   ]
  },
  {
   "cell_type": "code",
   "execution_count": 23,
   "metadata": {},
   "outputs": [
    {
     "name": "stdout",
     "output_type": "stream",
     "text": [
      "121212\n"
     ]
    }
   ],
   "source": [
    "# modify this code so that it prints 121212 instead of 36\n",
    "age='12'\n",
    "print(age*3)"
   ]
  },
  {
   "cell_type": "markdown",
   "metadata": {},
   "source": [
    "# 12. Type Casting"
   ]
  },
  {
   "cell_type": "code",
   "execution_count": 72,
   "metadata": {},
   "outputs": [
    {
     "name": "stdout",
     "output_type": "stream",
     "text": [
      "10\n"
     ]
    }
   ],
   "source": [
    "a = '10'\n",
    "print (a)"
   ]
  },
  {
   "cell_type": "code",
   "execution_count": 90,
   "metadata": {},
   "outputs": [],
   "source": [
    "# int(a)\n",
    "# str(a)"
   ]
  },
  {
   "cell_type": "code",
   "execution_count": 24,
   "metadata": {},
   "outputs": [
    {
     "name": "stdout",
     "output_type": "stream",
     "text": [
      "enter a number12\n",
      "180\n"
     ]
    }
   ],
   "source": [
    "# take an integer from user and multiply it with 15\n",
    "print(int(input('enter a number'))*15)"
   ]
  },
  {
   "cell_type": "code",
   "execution_count": 25,
   "metadata": {},
   "outputs": [
    {
     "name": "stdout",
     "output_type": "stream",
     "text": [
      "579\n"
     ]
    }
   ],
   "source": [
    "num_int = 123\n",
    "num_str = \"456\"\n",
    "# Find the sum of these 2 variables\n",
    "print(num_int + int(num_str))"
   ]
  },
  {
   "cell_type": "markdown",
   "metadata": {},
   "source": [
    "# 13. Comments"
   ]
  },
  {
   "cell_type": "code",
   "execution_count": null,
   "metadata": {
    "collapsed": true
   },
   "outputs": [],
   "source": [
    "# here is comments"
   ]
  },
  {
   "cell_type": "markdown",
   "metadata": {},
   "source": [
    "# Exercise"
   ]
  },
  {
   "cell_type": "raw",
   "metadata": {},
   "source": [
    "Write a program that uses raw_input to prompt a user for their name and then welcomes them.\n",
    "\n",
    "Enter your name: Chuck\n",
    "Hello Chuck"
   ]
  },
  {
   "cell_type": "raw",
   "metadata": {},
   "source": [
    "Write a program to prompt the user for hours and rate per hour to\n",
    "compute gross pay.\n",
    "\n",
    "Enter Hours: 35\n",
    "Enter Rate: 2.75\n",
    "Pay: 96.25"
   ]
  },
  {
   "cell_type": "raw",
   "metadata": {},
   "source": [
    "Assume that we execute the following assignment statements:\n",
    "width = 17\n",
    "height = 12.0\n",
    "\n",
    "For each of the following expressions, write the value of the expression and the\n",
    "type (of the value of the expression).\n",
    "\n",
    "1. width/2\n",
    "2. width/2.0\n",
    "3. height/3\n",
    "4. 1 + 2 * 5\n",
    "\n",
    "Use the Python interpreter to check your answers."
   ]
  },
  {
   "cell_type": "raw",
   "metadata": {},
   "source": [
    "Write a program which prompts the user for a Celsius temperature,\n",
    "convert the temperature to Fahrenheit and print out the converted temperature."
   ]
  },
  {
   "cell_type": "code",
   "execution_count": 26,
   "metadata": {},
   "outputs": [
    {
     "name": "stdout",
     "output_type": "stream",
     "text": [
      "Enter the temprature in celsius0\n",
      "32.0\n"
     ]
    }
   ],
   "source": [
    "celsius = float(input('Enter the temprature in celsius'))\n",
    "print((celsius * (9/5) + 32))"
   ]
  },
  {
   "cell_type": "code",
   "execution_count": null,
   "metadata": {},
   "outputs": [],
   "source": []
  }
 ],
 "metadata": {
  "kernelspec": {
   "display_name": "Python 3 (ipykernel)",
   "language": "python",
   "name": "python3"
  },
  "language_info": {
   "codemirror_mode": {
    "name": "ipython",
    "version": 3
   },
   "file_extension": ".py",
   "mimetype": "text/x-python",
   "name": "python",
   "nbconvert_exporter": "python",
   "pygments_lexer": "ipython3",
   "version": "3.11.6"
  },
  "vscode": {
   "interpreter": {
    "hash": "cf877e899ade189e092f419ed6500768233ef45bf03c1569485e8f982cec4187"
   }
  }
 },
 "nbformat": 4,
 "nbformat_minor": 2
}
