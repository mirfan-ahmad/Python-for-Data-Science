{
 "cells": [
  {
   "cell_type": "markdown",
   "metadata": {},
   "source": [
    "# Contents\n",
    "## 1. Opening files\n",
    "## 2. Reading files\n",
    "## 3. Using try, except, and open\n",
    "## 4. Writing files"
   ]
  },
  {
   "cell_type": "markdown",
   "metadata": {},
   "source": [
    "# 1. Opening files"
   ]
  },
  {
   "cell_type": "code",
   "execution_count": 1,
   "metadata": {},
   "outputs": [],
   "source": [
    "fhand = open('test.txt')"
   ]
  },
  {
   "cell_type": "code",
   "execution_count": 2,
   "metadata": {},
   "outputs": [
    {
     "name": "stdout",
     "output_type": "stream",
     "text": [
      "<_io.TextIOWrapper name='test.txt' mode='r' encoding='UTF-8'>\n"
     ]
    }
   ],
   "source": [
    "print (fhand)"
   ]
  },
  {
   "cell_type": "code",
   "execution_count": 7,
   "metadata": {},
   "outputs": [
    {
     "name": "stdout",
     "output_type": "stream",
     "text": [
      "File doesn't exist\n"
     ]
    }
   ],
   "source": [
    "try:\n",
    "    fhand = open('test1.txt')\n",
    "except:\n",
    "    print (\"File doesn't exist\")"
   ]
  },
  {
   "cell_type": "markdown",
   "metadata": {},
   "source": [
    "# 2. Reading files"
   ]
  },
  {
   "cell_type": "code",
   "execution_count": 8,
   "metadata": {},
   "outputs": [
    {
     "name": "stdout",
     "output_type": "stream",
     "text": [
      "Tony Blair became \"obsessed\" with creating of bringing the UK together,\n",
      "\n",
      "their former prime minister the has revealed.\n",
      "\n",
      "Rebel Tories and Labour MPs are planning a bill to stop the UK leaving the EU on 31 October without a deal.\n",
      "\n",
      "\n",
      "\n",
      "Mr Johnson said he did not want an election, but progress with the EU would be \"impossible\" if the MPs win.\n",
      "\n",
      "\n",
      "\n",
      "Jeremy Corbyn said the Labour Party was ready for a general election.\n",
      "\n",
      "\n",
      "\n",
      "But shadow Northern Ireland secretary Tony Lloyd later said Labour would vote against any government plans to hold a general election before the UK is due to leave the EU on 31 October.\n",
      "\n",
      "\n",
      "\n",
      "He said Labour \"will not have Boris Johnson dictate the terms of an election that crashes this country out with no deal\".\n",
      "\n",
      "Line Count: 11\n"
     ]
    }
   ],
   "source": [
    "# counting no of line\n",
    "fhand = open('test.txt')\n",
    "count = 0\n",
    "for line in fhand:\n",
    "    print (line)\n",
    "    count = count + 1\n",
    "print ('Line Count:', count)"
   ]
  },
  {
   "cell_type": "code",
   "execution_count": 9,
   "metadata": {},
   "outputs": [
    {
     "data": {
      "text/plain": [
       "716"
      ]
     },
     "execution_count": 9,
     "metadata": {},
     "output_type": "execute_result"
    }
   ],
   "source": [
    "fhand = open('test.txt')\n",
    "inp = fhand.read()\n",
    "len(inp)"
   ]
  },
  {
   "cell_type": "code",
   "execution_count": 10,
   "metadata": {},
   "outputs": [
    {
     "data": {
      "text/plain": [
       "'Tony Blair'"
      ]
     },
     "execution_count": 10,
     "metadata": {},
     "output_type": "execute_result"
    }
   ],
   "source": [
    "inp[:10]"
   ]
  },
  {
   "cell_type": "code",
   "execution_count": 11,
   "metadata": {},
   "outputs": [
    {
     "name": "stdout",
     "output_type": "stream",
     "text": [
      "not found in: Tony Blair became \"obsessed\" with creating of bringing the UK together,\n",
      "\n",
      "not found in: their former prime minister the has revealed.\n",
      "\n",
      "not found in: Rebel Tories and Labour MPs are planning a bill to stop the UK leaving the EU on 31 October without a deal.\n",
      "\n",
      "not found in: \n",
      "\n",
      "not found in: Mr Johnson said he did not want an election, but progress with the EU would be \"impossible\" if the MPs win.\n",
      "\n",
      "not found in: \n",
      "\n",
      "not found in: Jeremy Corbyn said the Labour Party was ready for a general election.\n",
      "\n",
      "not found in: \n",
      "\n",
      "found in: But shadow Northern Ireland secretary Tony Lloyd later said Labour would vote against any government plans to hold a general election before the UK is due to leave the EU on 31 October.\n",
      "\n",
      "not found in: \n",
      "\n",
      "not found in: He said Labour \"will not have Boris Johnson dictate the terms of an election that crashes this country out with no deal\".\n",
      "\n"
     ]
    }
   ],
   "source": [
    "# write aprogram that looks for the string \"leave\" in each line of he file \"test.txt\" and prints found if string is found in that lineor not found if string is not found in that line  \n",
    "\n",
    "with open('test.txt') as f:\n",
    "    for line in f:\n",
    "        if 'leave' in line:\n",
    "            print('found in:', line)\n",
    "        else:\n",
    "            print('not found in:', line)"
   ]
  },
  {
   "cell_type": "code",
   "execution_count": 12,
   "metadata": {},
   "outputs": [
    {
     "name": "stdout",
     "output_type": "stream",
     "text": [
      "Tony Blair\n"
     ]
    }
   ],
   "source": [
    "# write a program that allows you to read a file upto 10 characters\n",
    "\n",
    "with open('test.txt') as f:\n",
    "    for line in f:\n",
    "        print(line[:10])\n",
    "        break"
   ]
  },
  {
   "cell_type": "code",
   "execution_count": 13,
   "metadata": {},
   "outputs": [
    {
     "name": "stdout",
     "output_type": "stream",
     "text": [
      "TONY BLAIR BECAME \"OBSESSED\" WITH CREATING OF BRINGING THE UK TOGETHER,\n",
      "\n",
      "THEIR FORMER PRIME MINISTER THE HAS REVEALED.\n",
      "\n",
      "REBEL TORIES AND LABOUR MPS ARE PLANNING A BILL TO STOP THE UK LEAVING THE EU ON 31 OCTOBER WITHOUT A DEAL.\n",
      "\n",
      "\n",
      "\n",
      "MR JOHNSON SAID HE DID NOT WANT AN ELECTION, BUT PROGRESS WITH THE EU WOULD BE \"IMPOSSIBLE\" IF THE MPS WIN.\n",
      "\n",
      "\n",
      "\n",
      "JEREMY CORBYN SAID THE LABOUR PARTY WAS READY FOR A GENERAL ELECTION.\n",
      "\n",
      "\n",
      "\n",
      "BUT SHADOW NORTHERN IRELAND SECRETARY TONY LLOYD LATER SAID LABOUR WOULD VOTE AGAINST ANY GOVERNMENT PLANS TO HOLD A GENERAL ELECTION BEFORE THE UK IS DUE TO LEAVE THE EU ON 31 OCTOBER.\n",
      "\n",
      "\n",
      "\n",
      "HE SAID LABOUR \"WILL NOT HAVE BORIS JOHNSON DICTATE THE TERMS OF AN ELECTION THAT CRASHES THIS COUNTRY OUT WITH NO DEAL\".\n",
      "\n"
     ]
    }
   ],
   "source": [
    "# write a program to read a file and print the contents of the file in upper case\n",
    "\n",
    "with open('test.txt') as f:\n",
    "    for line in f:\n",
    "        print(line.upper())"
   ]
  },
  {
   "cell_type": "code",
   "execution_count": 14,
   "metadata": {},
   "outputs": [
    {
     "name": "stdout",
     "output_type": "stream",
     "text": [
      "Tony Blair became \"obsessed\" with creating of bringing the UK together,\n",
      "\n",
      "their former prime minister the has revealed.\n",
      "\n"
     ]
    }
   ],
   "source": [
    "# write a program that opens and prints the first two lines of the file \"test.txt\"\n",
    "\n",
    "with open('test.txt') as f:\n",
    "    print(f.readline())\n",
    "    print(f.readline())\n",
    "    "
   ]
  },
  {
   "cell_type": "markdown",
   "metadata": {},
   "source": [
    "# 3. Using try, except, and open"
   ]
  },
  {
   "cell_type": "code",
   "execution_count": 15,
   "metadata": {},
   "outputs": [
    {
     "name": "stdout",
     "output_type": "stream",
     "text": [
      "Enter the file name: test.txt\n",
      "There were 11  lines in test.txt\n"
     ]
    }
   ],
   "source": [
    "fname = input('Enter the file name: ')\n",
    "#fname = 'test.txt'\n",
    "try:\n",
    "    fhand = open(fname)\n",
    "except:\n",
    "    print ('File cannot be opened:', fname)\n",
    "    exit()\n",
    "count = 0\n",
    "for line in fhand:\n",
    "    #if line.startswith('Subject:') :\n",
    "    count = count + 1\n",
    "print ('There were', count, ' lines in', fname)"
   ]
  },
  {
   "cell_type": "markdown",
   "metadata": {},
   "source": [
    "# 4. Writing files"
   ]
  },
  {
   "cell_type": "code",
   "execution_count": 16,
   "metadata": {},
   "outputs": [],
   "source": [
    "fout = open('output.txt', 'w')"
   ]
  },
  {
   "cell_type": "code",
   "execution_count": 17,
   "metadata": {},
   "outputs": [],
   "source": [
    "line1 = \"This here's the wattle,\\n\"\n",
    "fout.write(line1)\n",
    "fout.close()"
   ]
  },
  {
   "cell_type": "code",
   "execution_count": 18,
   "metadata": {},
   "outputs": [],
   "source": [
    "s = '1 2\\t 3\\n 4'"
   ]
  },
  {
   "cell_type": "code",
   "execution_count": 19,
   "metadata": {},
   "outputs": [
    {
     "name": "stdout",
     "output_type": "stream",
     "text": [
      "1 2\t 3\n",
      " 4\n"
     ]
    }
   ],
   "source": [
    "print(s)"
   ]
  },
  {
   "cell_type": "code",
   "execution_count": 20,
   "metadata": {},
   "outputs": [
    {
     "name": "stdout",
     "output_type": "stream",
     "text": [
      "'1 2\\t 3\\n 4'\n"
     ]
    }
   ],
   "source": [
    "print (repr(s))"
   ]
  },
  {
   "cell_type": "code",
   "execution_count": 21,
   "metadata": {},
   "outputs": [
    {
     "data": {
      "text/plain": [
       "'1 2\\t 3\\n 4'"
      ]
     },
     "execution_count": 21,
     "metadata": {},
     "output_type": "execute_result"
    }
   ],
   "source": [
    "s"
   ]
  },
  {
   "cell_type": "code",
   "execution_count": 25,
   "metadata": {
    "scrolled": true
   },
   "outputs": [
    {
     "name": "stdout",
     "output_type": "stream",
     "text": [
      "File Contents after appending text:\n",
      "Tony Blair became \"obsessed\" with creating of bringing the UK together,\n",
      "their former prime minister the has revealed.\n",
      "Rebel Tories and Labour MPs are planning a bill to stop the UK leaving the EU on 31 October without a deal.\n",
      "\n",
      "Mr Johnson said he did not want an election, but progress with the EU would be \"impossible\" if the MPs win.\n",
      "\n",
      "Jeremy Corbyn said the Labour Party was ready for a general election.\n",
      "\n",
      "But shadow Northern Ireland secretary Tony Lloyd later said Labour would vote against any government plans to hold a general election before the UK is due to leave the EU on 31 October.\n",
      "\n",
      "He said Labour \"will not have Boris Johnson dictate the terms of an election that crashes this country out with no deal\".\n",
      "This is the appended text.\n"
     ]
    }
   ],
   "source": [
    "# Write a program that open and read the file after appending text to a file\n",
    "\n",
    "text_to_append = \"This is the appended text.\"\n",
    "\n",
    "with open('test.txt', 'a') as file:\n",
    "    file.write(text_to_append + '\\n')\n",
    "\n",
    "with open('test.txt', 'r') as file:\n",
    "    file_contents = file.read()\n",
    "    print(\"File Contents after appending text:\")\n",
    "    print(file_contents)"
   ]
  },
  {
   "cell_type": "code",
   "execution_count": null,
   "metadata": {},
   "outputs": [],
   "source": []
  }
 ],
 "metadata": {
  "kernelspec": {
   "display_name": "Python 3 (ipykernel)",
   "language": "python",
   "name": "python3"
  },
  "language_info": {
   "codemirror_mode": {
    "name": "ipython",
    "version": 3
   },
   "file_extension": ".py",
   "mimetype": "text/x-python",
   "name": "python",
   "nbconvert_exporter": "python",
   "pygments_lexer": "ipython3",
   "version": "3.11.6"
  }
 },
 "nbformat": 4,
 "nbformat_minor": 2
}
